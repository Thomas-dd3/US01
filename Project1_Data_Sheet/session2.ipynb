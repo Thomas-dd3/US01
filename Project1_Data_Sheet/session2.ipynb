{
 "cells": [
  {
   "cell_type": "markdown",
   "metadata": {},
   "source": [
    "- We import pandas to read the excel and work with DataFrame\n",
    "- We import requests for API requests\n",
    "- pickle is to save variable\n",
    "- time is to add a sleep between API calls if needed\n",
    "- os.path is to check if a file exist"
   ]
  },
  {
   "cell_type": "code",
   "execution_count": 2,
   "metadata": {},
   "outputs": [],
   "source": [
    "import pandas as pd\n",
    "import numpy as np\n",
    "import requests\n",
    "import pickle\n",
    "import time\n",
    "import os.path"
   ]
  },
  {
   "cell_type": "markdown",
   "metadata": {},
   "source": [
    "We read the df previously saved in a file in order to get back the df in the workspace, or we load the excel file for the first execution"
   ]
  },
  {
   "cell_type": "code",
   "execution_count": 3,
   "metadata": {},
   "outputs": [
    {
     "name": "stdout",
     "output_type": "stream",
     "text": [
      "DF saved loaded\n"
     ]
    }
   ],
   "source": [
    "if os.path.isfile('savedDF.pickle') or os.path.isfile('Data-sheet-STUDENTS.xlsx'):\n",
    "    if os.path.isfile('savedDF.pickle'):\n",
    "        df = pd.read_pickle(\"savedDF.pickle\")\n",
    "        print(\"DF saved loaded\")\n",
    "    else:\n",
    "        df = pd.read_excel('Data-sheet-STUDENTS.xlsx', header=2, index_col=0)\n",
    "        print(\"DF from the empty execl loaded\")\n",
    "else:\n",
    "    print(\"Error: no file to load the df exist in the current folder\")"
   ]
  },
  {
   "cell_type": "code",
   "execution_count": 4,
   "metadata": {},
   "outputs": [
    {
     "name": "stdout",
     "output_type": "stream",
     "text": [
      "Indicators loaded\n"
     ]
    }
   ],
   "source": [
    "if os.path.isfile('indicatorsSession2.pickle'):\n",
    "    with open('indicatorsSession2.pickle','rb') as fp:\n",
    "        indicators = pickle.load(fp)\n",
    "    print(\"Indicators loaded\")\n",
    "else:\n",
    "    print(\"Indicators not loaded\")\n",
    "        "
   ]
  },
  {
   "cell_type": "code",
   "execution_count": 9,
   "metadata": {
    "scrolled": true
   },
   "outputs": [
    {
     "data": {
      "text/plain": [
       "1    Afghanistan\n",
       "2        Albania\n",
       "3        Armenia\n",
       "4     Azerbaijan\n",
       "5        Bahrain\n",
       "Name: Country (according to CN Gov):, dtype: object"
      ]
     },
     "execution_count": 9,
     "metadata": {},
     "output_type": "execute_result"
    }
   ],
   "source": [
    "df[\"Country (according to CN Gov):\"].head()"
   ]
  },
  {
   "cell_type": "markdown",
   "metadata": {},
   "source": [
    "strip() clean begining and end of a string like \"space\" or \"\\n\" ..."
   ]
  },
  {
   "cell_type": "markdown",
   "metadata": {},
   "source": [
    "Next we get the isocode for each country"
   ]
  },
  {
   "cell_type": "code",
   "execution_count": 7,
   "metadata": {},
   "outputs": [],
   "source": [
    "iso_codes = {}"
   ]
  },
  {
   "cell_type": "code",
   "execution_count": 8,
   "metadata": {},
   "outputs": [],
   "source": [
    "for index, name in df[\"Country (according to CN Gov):\"].items():    \n",
    "    if name in iso_codes:\n",
    "        continue\n",
    "        \n",
    "    clean_name = name.split(' (')[0]\n",
    "    if name == \"Thailiand\":\n",
    "        clean_name = \"Thailand\"\n",
    "        \n",
    "    if name == \"The United Arab Emirates\":\n",
    "        clean_name = \"United Arab Emirates\"\n",
    "        \n",
    "    url = 'http://www.restcountries.eu/rest/v2/name/' + clean_name\n",
    "    r = requests.get(url)\n",
    "    if r.status_code == 200:\n",
    "        data = r.json()\n",
    "        country_code = data[0]['alpha3Code']\n",
    "        iso_codes[name] = country_code\n",
    "    else:\n",
    "        print('[ERROR]['+ name +'] we cannot get the data, reason is ', r.status_code, r.text)"
   ]
  },
  {
   "cell_type": "code",
   "execution_count": 12,
   "metadata": {
    "scrolled": true
   },
   "outputs": [
    {
     "data": {
      "text/plain": [
       "{'Afghanistan': 'AFG',\n",
       " 'Albania': 'ALB',\n",
       " 'Armenia': 'ARM',\n",
       " 'Azerbaijan': 'AZE',\n",
       " 'Bahrain': 'BHR',\n",
       " 'Bangladesh': 'BGD',\n",
       " 'Belarus': 'BLR',\n",
       " 'Bhutan': 'BTN',\n",
       " 'Bosnia and Herzegovina': 'BIH',\n",
       " 'Brunei': 'BRN',\n",
       " 'Bulgaria': 'BGR',\n",
       " 'Cambodia': 'KHM',\n",
       " 'China': 'CHN',\n",
       " 'Croatia': 'HRV',\n",
       " 'Czech Republic': 'CZE',\n",
       " 'East Timor': 'TLS',\n",
       " 'Egypt': 'EGY',\n",
       " 'Estonia': 'EST',\n",
       " 'France (Not BRI)': 'FRA',\n",
       " 'Georgia': 'GEO',\n",
       " 'Germany (not BRI)': 'DEU',\n",
       " 'Hungary': 'HUN',\n",
       " 'India': 'IOT',\n",
       " 'Indonesia': 'IDN',\n",
       " 'Iran': 'IRN',\n",
       " 'Iraq': 'IRQ',\n",
       " 'Israel': 'ISR',\n",
       " 'Jordan': 'JOR',\n",
       " 'Kazakhstan': 'KAZ',\n",
       " 'Kuwait': 'KWT',\n",
       " 'Kyrgyzstan': 'KGZ',\n",
       " 'Laos': 'LAO',\n",
       " 'Latvia': 'LVA',\n",
       " 'Lebanon': 'LBN',\n",
       " 'Lithuania': 'LTU',\n",
       " 'Macedonia': 'MKD',\n",
       " 'Malaysia': 'MYS',\n",
       " 'Maldives': 'MDV',\n",
       " 'Moldova': 'MDA',\n",
       " 'Mongolia': 'MNG',\n",
       " 'Montenegro': 'MNE',\n",
       " 'Myanmar': 'MMR',\n",
       " 'Nepal': 'NPL',\n",
       " 'Oman': 'OMN',\n",
       " 'Pakistan': 'PAK',\n",
       " 'Philippines': 'PHL',\n",
       " 'Poland': 'POL',\n",
       " 'Qatar': 'QAT',\n",
       " 'Romania': 'ROU',\n",
       " 'Russia': 'RUS',\n",
       " 'Saudi Arabia': 'SAU',\n",
       " 'Serbia': 'SRB',\n",
       " 'Singapore': 'SGP',\n",
       " 'Slovakia': 'SVK',\n",
       " 'Slovenia': 'SVN',\n",
       " 'Sri Lanka': 'LKA',\n",
       " 'Syria': 'SYR',\n",
       " 'Tajikistan': 'TJK',\n",
       " 'Thailiand': 'THA',\n",
       " 'The United Arab Emirates': 'ARE',\n",
       " 'Turkey': 'TUR',\n",
       " 'Turkmenistan': 'TKM',\n",
       " 'United Kingdom (Not BRI)': 'GBR',\n",
       " 'United States of America (Not BRI)': 'USA',\n",
       " 'Ukraine': 'UKR',\n",
       " 'Uzbekistan': 'UZB',\n",
       " 'Vietnam': 'VNM',\n",
       " 'Yemen': 'YEM'}"
      ]
     },
     "execution_count": 12,
     "metadata": {},
     "output_type": "execute_result"
    }
   ],
   "source": [
    "iso_codes"
   ]
  },
  {
   "cell_type": "markdown",
   "metadata": {},
   "source": [
    "We put back the iso_code into the dataframe"
   ]
  },
  {
   "cell_type": "code",
   "execution_count": 13,
   "metadata": {},
   "outputs": [],
   "source": [
    "df[\"isocode\"] = df[\"Country (according to CN Gov):\"].apply(lambda x: iso_codes[x])"
   ]
  },
  {
   "cell_type": "markdown",
   "metadata": {},
   "source": [
    "Next we want to get the indicator for each country"
   ]
  },
  {
   "cell_type": "code",
   "execution_count": 14,
   "metadata": {},
   "outputs": [],
   "source": [
    "dicoColumnIndicator = {'IMF WB\\nCustoms and other import duties (% of tax revenue) 2016': 'GC.TAX.IMPT.ZS', 'WB IMF Non-performing loans to total gross loans ratio (%)': 'FB.AST.NPER.ZS', 'UIC Rail freight (mn ton x km travelled)': 'IS.RRS.GOOD.MT.K6', 'ICAO air freight (mn ton x km travelled)': 'IS.RRS.GOOD.MT.K6', 'WB Household final consumption expenditure, PPP bn USD': 'NE.CON.PRVT.PP.CD', 'WB UNESCO R&D Expenditure % of GDP': 'GB.XPD.RSDV.GD.ZS', 'WB UNESCO Researchers p. mn inhabitants': 'SP.POP.SCIE.RD.P6', 'IFDI Net Inflows (% of GDP)': 'BX.KLT.DINV.WD.GD.ZS', 'WHO Current Health Expenditure p.c., PPP USD': 'SH.XPD.CHEX.PP.CD', 'WB Research Expenditure % of GDP': 'GB.XPD.RSDV.GD.ZS', 'WIPO Trademark applications': 'IP.TMK.RSCT', 'WIPO Patent Applications': 'IP.PAT.RESD'}"
   ]
  },
  {
   "cell_type": "code",
   "execution_count": 15,
   "metadata": {},
   "outputs": [],
   "source": [
    "indicators = {}"
   ]
  },
  {
   "cell_type": "code",
   "execution_count": 27,
   "metadata": {
    "scrolled": true
   },
   "outputs": [],
   "source": [
    "for nameColumn, valueIndicator in dicoColumnIndicator.items():\n",
    "    \n",
    "    if nameColumn not in indicators:\n",
    "        indicators[nameColumn] = {}\n",
    "                \n",
    "    for index, isocode in df[\"isocode\"].items():    \n",
    "        if isocode in indicators[nameColumn]:\n",
    "            continue\n",
    "\n",
    "        url = 'http://api.worldbank.org/v2/country/' + isocode + '/indicator/'+ valueIndicator +'?format=json&mrv=1'\n",
    "        r = requests.get(url)\n",
    "        if r.status_code == 200:\n",
    "            print(isocode)\n",
    "            data = r.json()        \n",
    "            try:\n",
    "                indicators[nameColumn][isocode] = data[1][0]['value']\n",
    "                print(indicators[nameColumn][isocode])\n",
    "            except:\n",
    "                indicators[nameColumn][isocode] = np.nan\n",
    "                print(\"[WARNING] \" + nameColumn + \" & \" + isocode + \" => No value found\")\n",
    "        else:\n",
    "            print('[ERROR]['+ isocode +'] we cannot get the data, reason is ', r.status_code, r.text)\n",
    "        \n",
    "        #time.sleep(1) #delay 1s\n"
   ]
  },
  {
   "cell_type": "markdown",
   "metadata": {},
   "source": [
    "Insert the data into the dataFrame"
   ]
  },
  {
   "cell_type": "code",
   "execution_count": 28,
   "metadata": {},
   "outputs": [],
   "source": [
    "for nameColumn, indicator in indicators.items():\n",
    "    df[nameColumn] = df[\"isocode\"].apply(lambda x: indicator[x])"
   ]
  },
  {
   "cell_type": "markdown",
   "metadata": {},
   "source": [
    "We display the DF to check that the value has been added succesfully"
   ]
  },
  {
   "cell_type": "code",
   "execution_count": null,
   "metadata": {},
   "outputs": [],
   "source": [
    "df"
   ]
  },
  {
   "cell_type": "markdown",
   "metadata": {},
   "source": [
    "Creating the new excel with the data"
   ]
  },
  {
   "cell_type": "code",
   "execution_count": null,
   "metadata": {},
   "outputs": [],
   "source": [
    "df.to_excel('Data-sheet-STUDENTS-filled.xlsx')"
   ]
  },
  {
   "cell_type": "markdown",
   "metadata": {},
   "source": [
    "We save the df and indicators to read them next time we continue the work. "
   ]
  },
  {
   "cell_type": "code",
   "execution_count": 30,
   "metadata": {},
   "outputs": [],
   "source": [
    "df.to_pickle(\"savedDF.pickle\")\n",
    "with open('indicatorsSession2.pickle','wb') as fp:\n",
    "    pickle.dump(indicators,fp)"
   ]
  },
  {
   "cell_type": "code",
   "execution_count": null,
   "metadata": {
    "scrolled": true
   },
   "outputs": [],
   "source": []
  }
 ],
 "metadata": {
  "kernelspec": {
   "display_name": "Python 3",
   "language": "python",
   "name": "python3"
  },
  "language_info": {
   "codemirror_mode": {
    "name": "ipython",
    "version": 3
   },
   "file_extension": ".py",
   "mimetype": "text/x-python",
   "name": "python",
   "nbconvert_exporter": "python",
   "pygments_lexer": "ipython3",
   "version": "3.7.3"
  }
 },
 "nbformat": 4,
 "nbformat_minor": 4
}
