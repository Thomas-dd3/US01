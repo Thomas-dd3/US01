{
 "cells": [
  {
   "cell_type": "markdown",
   "metadata": {},
   "source": [
    "- We import pandas to read the excel and work with DataFrame\n",
    "- We import requests for API requests\n",
    "- pickle is to save variable\n",
    "- time is to add a sleep between API calls if needed\n",
    "- os.path is to check if a file exist"
   ]
  },
  {
   "cell_type": "code",
   "execution_count": 5,
   "metadata": {},
   "outputs": [],
   "source": [
    "import pandas as pd\n",
    "import requests\n",
    "import pickle\n",
    "import time\n",
    "import os.path"
   ]
  },
  {
   "cell_type": "markdown",
   "metadata": {},
   "source": [
    "We read the df previously saved in a file in order to get back the df in the workspace, or we load the excel file for the first execution"
   ]
  },
  {
   "cell_type": "code",
   "execution_count": 3,
   "metadata": {},
   "outputs": [
    {
     "name": "stdout",
     "output_type": "stream",
     "text": [
      "DF saved loaded\n"
     ]
    }
   ],
   "source": [
    "if os.path.isfile('savedDF.pickle') or os.path.isfile('Data-sheet-STUDENTS.xlsx'):\n",
    "    if os.path.isfile('savedDF.pickle'):\n",
    "        df = pd.read_pickle(\"savedDF.pickle\")\n",
    "        print(\"DF saved loaded\")\n",
    "    else:\n",
    "        df = pd.read_excel('Data-sheet-STUDENTS.xlsx', header=2, index_col=0)\n",
    "        print(\"DF from the empty execl loaded\")\n",
    "else:\n",
    "    print(\"Error: no file to load the df exist in the current folder\")"
   ]
  },
  {
   "cell_type": "code",
   "execution_count": 7,
   "metadata": {},
   "outputs": [],
   "source": [
    "if os.path.isfile('indicatorsSession2.pickle'):\n",
    "    with open('indicatorsSession2.pickle','rb') as fp:\n",
    "        indicators = pickle.load(fp)\n",
    "    print(\"Indicators loaded\")\n",
    "else:\n",
    "    print(\"Indicators not loaded\")\n",
    "        "
   ]
  },
  {
   "cell_type": "code",
   "execution_count": 3,
   "metadata": {
    "scrolled": true
   },
   "outputs": [
    {
     "data": {
      "text/plain": [
       "1                            Afghanistan\n",
       "2                                Albania\n",
       "3                                Armenia\n",
       "4                             Azerbaijan\n",
       "5                                Bahrain\n",
       "6                             Bangladesh\n",
       "7                                Belarus\n",
       "8                                 Bhutan\n",
       "9                 Bosnia and Herzegovina\n",
       "10                                Brunei\n",
       "11                              Bulgaria\n",
       "12                              Cambodia\n",
       "13                                 China\n",
       "14                               Croatia\n",
       "15                        Czech Republic\n",
       "16                            East Timor\n",
       "17                                 Egypt\n",
       "18                               Estonia\n",
       "19                      France (Not BRI)\n",
       "20                               Georgia\n",
       "21                     Germany (not BRI)\n",
       "22                               Hungary\n",
       "23                                 India\n",
       "24                             Indonesia\n",
       "25                                  Iran\n",
       "26                                  Iraq\n",
       "27                                Israel\n",
       "28                                Jordan\n",
       "29                            Kazakhstan\n",
       "30                                Kuwait\n",
       "                     ...                \n",
       "39                               Moldova\n",
       "40                              Mongolia\n",
       "41                            Montenegro\n",
       "42                               Myanmar\n",
       "43                                 Nepal\n",
       "44                                  Oman\n",
       "45                              Pakistan\n",
       "46                           Philippines\n",
       "47                                Poland\n",
       "48                                 Qatar\n",
       "49                               Romania\n",
       "50                                Russia\n",
       "51                          Saudi Arabia\n",
       "52                                Serbia\n",
       "53                             Singapore\n",
       "54                              Slovakia\n",
       "55                              Slovenia\n",
       "56                             Sri Lanka\n",
       "57                                 Syria\n",
       "58                            Tajikistan\n",
       "59                             Thailiand\n",
       "60              The United Arab Emirates\n",
       "61                                Turkey\n",
       "62                          Turkmenistan\n",
       "63              United Kingdom (Not BRI)\n",
       "64    United States of America (Not BRI)\n",
       "65                               Ukraine\n",
       "66                            Uzbekistan\n",
       "67                               Vietnam\n",
       "68                                 Yemen\n",
       "Name: Country (according to CN Gov):, Length: 68, dtype: object"
      ]
     },
     "execution_count": 3,
     "metadata": {},
     "output_type": "execute_result"
    }
   ],
   "source": [
    "df[\"Country (according to CN Gov):\"]"
   ]
  },
  {
   "cell_type": "markdown",
   "metadata": {},
   "source": [
    "strip() clean begining and end of a string like \"space\" or \"\\n\" ..."
   ]
  },
  {
   "cell_type": "markdown",
   "metadata": {},
   "source": [
    "Next we get the isocode for each country"
   ]
  },
  {
   "cell_type": "code",
   "execution_count": 54,
   "metadata": {},
   "outputs": [],
   "source": [
    "iso_codes = {}"
   ]
  },
  {
   "cell_type": "code",
   "execution_count": 55,
   "metadata": {},
   "outputs": [],
   "source": [
    "for index, name in df[\"Country (according to CN Gov):\"].items():    \n",
    "    if name in iso_codes:\n",
    "        continue\n",
    "        \n",
    "    clean_name = name.split(' (')[0]\n",
    "    if name == \"Thailiand\":\n",
    "        clean_name = \"Thailand\"\n",
    "        \n",
    "    if name == \"The United Arab Emirates\":\n",
    "        clean_name = \"United Arab Emirates\"\n",
    "        \n",
    "    url = 'http://www.restcountries.eu/rest/v2/name/' + clean_name\n",
    "    r = requests.get(url)\n",
    "    if r.status_code == 200:\n",
    "        data = r.json()\n",
    "        country_code = data[0]['alpha3Code']\n",
    "        iso_codes[name] = country_code\n",
    "    else:\n",
    "        print('[ERROR]['+ name +'] we cannot get the data, reason is ', r.status_code, r.text)"
   ]
  },
  {
   "cell_type": "code",
   "execution_count": 56,
   "metadata": {
    "scrolled": true
   },
   "outputs": [
    {
     "data": {
      "text/plain": [
       "{'Afghanistan': 'AFG',\n",
       " 'Albania': 'ALB',\n",
       " 'Armenia': 'ARM',\n",
       " 'Azerbaijan': 'AZE',\n",
       " 'Bahrain': 'BHR',\n",
       " 'Bangladesh': 'BGD',\n",
       " 'Belarus': 'BLR',\n",
       " 'Bhutan': 'BTN',\n",
       " 'Bosnia and Herzegovina': 'BIH',\n",
       " 'Brunei': 'BRN',\n",
       " 'Bulgaria': 'BGR',\n",
       " 'Cambodia': 'KHM',\n",
       " 'China': 'CHN',\n",
       " 'Croatia': 'HRV',\n",
       " 'Czech Republic': 'CZE',\n",
       " 'East Timor': 'TLS',\n",
       " 'Egypt': 'EGY',\n",
       " 'Estonia': 'EST',\n",
       " 'France (Not BRI)': 'FRA',\n",
       " 'Georgia': 'GEO',\n",
       " 'Germany (not BRI)': 'DEU',\n",
       " 'Hungary': 'HUN',\n",
       " 'India': 'IOT',\n",
       " 'Indonesia': 'IDN',\n",
       " 'Iran': 'IRN',\n",
       " 'Iraq': 'IRQ',\n",
       " 'Israel': 'ISR',\n",
       " 'Jordan': 'JOR',\n",
       " 'Kazakhstan': 'KAZ',\n",
       " 'Kuwait': 'KWT',\n",
       " 'Kyrgyzstan': 'KGZ',\n",
       " 'Laos': 'LAO',\n",
       " 'Latvia': 'LVA',\n",
       " 'Lebanon': 'LBN',\n",
       " 'Lithuania': 'LTU',\n",
       " 'Macedonia': 'MKD',\n",
       " 'Malaysia': 'MYS',\n",
       " 'Maldives': 'MDV',\n",
       " 'Moldova': 'MDA',\n",
       " 'Mongolia': 'MNG',\n",
       " 'Montenegro': 'MNE',\n",
       " 'Myanmar': 'MMR',\n",
       " 'Nepal': 'NPL',\n",
       " 'Oman': 'OMN',\n",
       " 'Pakistan': 'PAK',\n",
       " 'Philippines': 'PHL',\n",
       " 'Poland': 'POL',\n",
       " 'Qatar': 'QAT',\n",
       " 'Romania': 'ROU',\n",
       " 'Russia': 'RUS',\n",
       " 'Saudi Arabia': 'SAU',\n",
       " 'Serbia': 'SRB',\n",
       " 'Singapore': 'SGP',\n",
       " 'Slovakia': 'SVK',\n",
       " 'Slovenia': 'SVN',\n",
       " 'Sri Lanka': 'LKA',\n",
       " 'Syria': 'SYR',\n",
       " 'Tajikistan': 'TJK',\n",
       " 'Thailiand': 'THA',\n",
       " 'The United Arab Emirates': 'ARE',\n",
       " 'Turkey': 'TUR',\n",
       " 'Turkmenistan': 'TKM',\n",
       " 'United Kingdom (Not BRI)': 'GBR',\n",
       " 'United States of America (Not BRI)': 'USA',\n",
       " 'Ukraine': 'UKR',\n",
       " 'Uzbekistan': 'UZB',\n",
       " 'Vietnam': 'VNM',\n",
       " 'Yemen': 'YEM'}"
      ]
     },
     "execution_count": 56,
     "metadata": {},
     "output_type": "execute_result"
    }
   ],
   "source": [
    "iso_codes"
   ]
  },
  {
   "cell_type": "markdown",
   "metadata": {},
   "source": [
    "We put back the iso_code into the dataframe"
   ]
  },
  {
   "cell_type": "code",
   "execution_count": 58,
   "metadata": {},
   "outputs": [],
   "source": [
    "df[\"isocode\"] = df[\"Country (according to CN Gov):\"].apply(lambda x: iso_codes[x])"
   ]
  },
  {
   "cell_type": "markdown",
   "metadata": {},
   "source": [
    "Next we want to get the indicator for each country"
   ]
  },
  {
   "cell_type": "code",
   "execution_count": 4,
   "metadata": {},
   "outputs": [],
   "source": [
    "dicoColumnIndicator = {'IMF WB\\nCustoms and other import duties (% of tax revenue) 2016': 'GC.TAX.IMPT.ZS', 'WB IMF Non-performing loans to total gross loans ratio (%)': 'FB.AST.NPER.ZS', 'UIC Rail freight (mn ton x km travelled)': 'IS.RRS.GOOD.MT.K6', 'ICAO air freight (mn ton x km travelled)': 'IS.RRS.GOOD.MT.K6', 'WB Household final consumption expenditure, PPP bn USD': 'NE.CON.PRVT.PP.CD', 'WB UNESCO R&D Expenditure % of GDP': 'GB.XPD.RSDV.GD.ZS', 'WB UNESCO Researchers p. mn inhabitants': 'SP.POP.SCIE.RD.P6', 'IFDI Net Inflows (% of GDP)': 'BX.KLT.DINV.WD.GD.ZS', 'WHO Current Health Expenditure p.c., PPP USD': 'SH.XPD.CHEX.PP.CD', 'WB Research Expenditure % of GDP': 'GB.XPD.RSDV.GD.ZS', 'WIPO Trademark applications': 'IP.TMK.RSCT', 'WIPO Patent Applications': 'IP.PAT.RESD'}"
   ]
  },
  {
   "cell_type": "code",
   "execution_count": 6,
   "metadata": {},
   "outputs": [],
   "source": [
    "indicators = {}"
   ]
  },
  {
   "cell_type": "code",
   "execution_count": 7,
   "metadata": {
    "scrolled": true
   },
   "outputs": [
    {
     "name": "stdout",
     "output_type": "stream",
     "text": [
      "AFG\n",
      "NA\n",
      "ALB\n",
      "14\n",
      "ARM\n",
      "107\n",
      "AZE\n",
      "144\n",
      "BHR\n",
      "8\n",
      "BGD\n",
      "61\n",
      "BLR\n",
      "434\n",
      "BTN\n",
      "4\n",
      "BIH\n",
      "87\n",
      "BRN\n",
      "8\n",
      "BGR\n",
      "202\n",
      "KHM\n",
      "2\n",
      "CHN\n",
      "1245709\n",
      "HRV\n",
      "148\n",
      "CZE\n",
      "794\n",
      "TLS\n",
      "NA\n",
      "EGY\n",
      "918\n",
      "EST\n",
      "37\n",
      "FRA\n",
      "14415\n",
      "GEO\n",
      "75\n",
      "DEU\n",
      "47785\n",
      "HUN\n",
      "496\n",
      "IOT\n",
      "NA\n",
      "IDN\n",
      "2271\n",
      "IRN\n",
      "15264\n",
      "IRQ\n",
      "613\n",
      "ISR\n",
      "1436\n",
      "JOR\n",
      "26\n",
      "KAZ\n",
      "1055\n",
      "KWT\n",
      "NA\n",
      "KGZ\n",
      "137\n",
      "LAO\n",
      "NA\n",
      "LVA\n",
      "90\n",
      "LBN\n",
      "110\n",
      "LTU\n",
      "81\n",
      "MKD\n",
      "42\n",
      "MYS\n",
      "1166\n",
      "MDV\n",
      "NA\n",
      "MDA\n",
      "73\n",
      "MNG\n",
      "124\n",
      "MNE\n",
      "10\n",
      "MMR\n",
      "NA\n",
      "NPL\n",
      "20\n",
      "OMN\n",
      "4\n",
      "PAK\n",
      "193\n",
      "PHL\n",
      "323\n",
      "POL\n",
      "3924\n",
      "QAT\n",
      "19\n",
      "ROU\n",
      "1098\n",
      "RUS\n",
      "22777\n",
      "SAU\n",
      "909\n",
      "SRB\n",
      "171\n",
      "SGP\n",
      "1609\n",
      "SVK\n",
      "183\n",
      "SVN\n",
      "470\n",
      "LKA\n",
      "277\n",
      "SYR\n",
      "120\n",
      "TJK\n",
      "2\n",
      "THA\n",
      "979\n",
      "ARE\n",
      "52\n",
      "TUR\n",
      "8175\n",
      "TKM\n",
      "44\n",
      "GBR\n",
      "13301\n",
      "USA\n",
      "293904\n",
      "UKR\n",
      "2283\n",
      "UZB\n",
      "357\n",
      "VNM\n",
      "592\n",
      "YEM\n",
      "15\n"
     ]
    }
   ],
   "source": [
    "for nameColumn, valueIndicator in dicoColumnIndicator.items():\n",
    "    \n",
    "    if nameColumn not in indicators:\n",
    "        indicators[nameColumn] = {}\n",
    "                \n",
    "    for index, isocode in df[\"isocode\"].items():    \n",
    "        if isocode in indicators[nameColumn]:\n",
    "            continue\n",
    "\n",
    "        url = 'http://api.worldbank.org/v2/country/' + isocode + '/indicator/'+ valueIndicator +'?format=json&mrv=1'\n",
    "        r = requests.get(url)\n",
    "        if r.status_code == 200:\n",
    "            print(isocode)\n",
    "            data = r.json()        \n",
    "            try:\n",
    "                indicators[nameColumn][isocode] = data[1][0]['value']\n",
    "                print(indicators[nameColumn][isocode])\n",
    "            except:\n",
    "                print(\"[WARNING] \" + nameColumn + \" & \" + isocode + \" => No value found\")\n",
    "        else:\n",
    "            print('[ERROR]['+ isocode +'] we cannot get the data, reason is ', r.status_code, r.text)\n",
    "        \n",
    "        #time.sleep(1) #delay 1s\n"
   ]
  },
  {
   "cell_type": "markdown",
   "metadata": {},
   "source": [
    "Insert the data into the dataFrame"
   ]
  },
  {
   "cell_type": "code",
   "execution_count": 10,
   "metadata": {},
   "outputs": [],
   "source": [
    "for nameColumn, indicator in indicators.items():\n",
    "    df[nameColumn] = df[\"isocode\"].apply(lambda x: indicator[x])"
   ]
  },
  {
   "cell_type": "markdown",
   "metadata": {},
   "source": [
    "Creating the new excel with the data"
   ]
  },
  {
   "cell_type": "code",
   "execution_count": 128,
   "metadata": {},
   "outputs": [],
   "source": [
    "df.to_excel('Data-sheet-STUDENTS-filled.xlsx')"
   ]
  },
  {
   "cell_type": "markdown",
   "metadata": {},
   "source": [
    "We save the df and indicators to read them next time we continue the work. "
   ]
  },
  {
   "cell_type": "code",
   "execution_count": 12,
   "metadata": {},
   "outputs": [],
   "source": [
    "df.to_pickle(\"savedDF.pickle\")\n",
    "with open('indicatorsSession2.pickle','wb') as fp:\n",
    "    pickle.dump(a,fp)"
   ]
  },
  {
   "cell_type": "code",
   "execution_count": null,
   "metadata": {},
   "outputs": [],
   "source": []
  },
  {
   "cell_type": "code",
   "execution_count": 64,
   "metadata": {},
   "outputs": [
    {
     "data": {
      "text/plain": [
       "Index(['Country (according to CN Gov):', 'Date of research inquiry',\n",
       "       'HF Index of Economic Freedom (Scale: 1-100)',\n",
       "       'Heritage Foundation Index of Economic Freedom (Global Ranking)',\n",
       "       'Bertelsmann Transformation index (BTI)',\n",
       "       'Bertelsmann Transformation index (BTI) - Ranking',\n",
       "       'IMF WB\\nCustoms and other import duties (% of tax revenue) 2016',\n",
       "       'WB IMF Non-performing loans to total gross loans ratio (%)',\n",
       "       'Moody's Socvereign Ratings List', 'S&P Sovereign Ratings List',\n",
       "       'Fitch Sovereign Ratings List',\n",
       "       'UIC Rail freight (mn ton x km travelled)',\n",
       "       'ICAO air freight (mn ton x km travelled)',\n",
       "       'WB Household final consumption expenditure, PPP bn USD',\n",
       "       'WB UNESCO R&D Expenditure % of GDP',\n",
       "       'WB UNESCO Researchers p. mn inhabitants',\n",
       "       'TI Corruption Perception Index',\n",
       "       'TI Corruption Perception Index - Ranking', 'BRI GDP', 'BRI GDP p.c.',\n",
       "       'BRI GDP growth rate', 'BRI Y.o.Y. GDP growth rate p.c.',\n",
       "       'BRI Agriculture value added per sector ',\n",
       "       'BRI Industry value added per sector ',\n",
       "       'BRI Services value added per sector ',\n",
       "       'Cumulative value added (numbers should reflect 100%)',\n",
       "       'Exp./Imp. volume USD', 'WITS Time to Import ', 'WITS Time to Export ',\n",
       "       'IMF Financial Soundness Indicators', 'WB Central Government Debt',\n",
       "       'BRI Internet penetration rate (%)', 'BRI Population density (/km2)',\n",
       "       'BRI Percentage of Urban Population in Total Population',\n",
       "       'WB Cost of Starting a Business',\n",
       "       'WB Ease of Doing Business Index (1 = most business-friendly regulations)',\n",
       "       'WB Logistics Performance Index (LPI) (range: 1-5) ',\n",
       "       'IFDI Net Inflows (% of GDP)',\n",
       "       'ED National Electric Power Consumption TwH',\n",
       "       'WHO Current Health Expenditure p.c., PPP USD',\n",
       "       'WB Research Expenditure % of GDP', 'WIPO Trademark applications',\n",
       "       'WIPO Patent Applications', 'isocode'],\n",
       "      dtype='object')"
      ]
     },
     "execution_count": 64,
     "metadata": {},
     "output_type": "execute_result"
    }
   ],
   "source": [
    "df.columns"
   ]
  },
  {
   "cell_type": "code",
   "execution_count": null,
   "metadata": {},
   "outputs": [],
   "source": [
    "df"
   ]
  },
  {
   "cell_type": "code",
   "execution_count": null,
   "metadata": {},
   "outputs": [],
   "source": [
    "indicators"
   ]
  },
  {
   "cell_type": "code",
   "execution_count": null,
   "metadata": {},
   "outputs": [],
   "source": [
    "\n"
   ]
  },
  {
   "cell_type": "code",
   "execution_count": null,
   "metadata": {},
   "outputs": [],
   "source": []
  },
  {
   "cell_type": "code",
   "execution_count": null,
   "metadata": {
    "scrolled": true
   },
   "outputs": [],
   "source": []
  }
 ],
 "metadata": {
  "kernelspec": {
   "display_name": "Python 3",
   "language": "python",
   "name": "python3"
  },
  "language_info": {
   "codemirror_mode": {
    "name": "ipython",
    "version": 3
   },
   "file_extension": ".py",
   "mimetype": "text/x-python",
   "name": "python",
   "nbconvert_exporter": "python",
   "pygments_lexer": "ipython3",
   "version": "3.7.3"
  }
 },
 "nbformat": 4,
 "nbformat_minor": 4
}
