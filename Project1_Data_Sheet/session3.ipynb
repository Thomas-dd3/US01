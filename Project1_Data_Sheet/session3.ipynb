{
 "cells": [
  {
   "cell_type": "markdown",
   "metadata": {},
   "source": [
    "1. get indicator dataframe <-> indicator key from website\n",
    "2. make a function to check the country name\n",
    "3. update dataframe\n"
   ]
  },
  {
   "cell_type": "markdown",
   "metadata": {},
   "source": [
    "We import pandas and json"
   ]
  },
  {
   "cell_type": "code",
   "execution_count": 2,
   "metadata": {},
   "outputs": [],
   "source": [
    "import pandas as pd\n",
    "import json\n",
    "import os.path"
   ]
  },
  {
   "cell_type": "markdown",
   "metadata": {},
   "source": [
    "We read the df previously saved in a file in order to get back the df in the workspace, or we load the excel file for the first execution"
   ]
  },
  {
   "cell_type": "code",
   "execution_count": 3,
   "metadata": {},
   "outputs": [
    {
     "name": "stdout",
     "output_type": "stream",
     "text": [
      "DF saved loaded\n"
     ]
    }
   ],
   "source": [
    "if os.path.isfile('savedDF.pickle') or os.path.isfile('Data-sheet-STUDENTS.xlsx'):\n",
    "    if os.path.isfile('savedDF.pickle'):\n",
    "        df = pd.read_pickle(\"savedDF.pickle\")\n",
    "        print(\"DF saved loaded\")\n",
    "    else:\n",
    "        df = pd.read_excel('Data-sheet-STUDENTS.xlsx', header=2, index_col=0)\n",
    "        print(\"DF from the empty execl loaded\")\n",
    "else:\n",
    "    print(\"Error: no file to load the df exist in the current folder\")"
   ]
  },
  {
   "cell_type": "markdown",
   "metadata": {},
   "source": [
    "We get the data from belt and road portal by downloading previously a json file. We read this file under."
   ]
  },
  {
   "cell_type": "code",
   "execution_count": 4,
   "metadata": {},
   "outputs": [],
   "source": [
    "with open('data-query-20170525.json', 'r') as fp:\n",
    "    data = json.load(fp)"
   ]
  },
  {
   "cell_type": "code",
   "execution_count": null,
   "metadata": {
    "scrolled": true
   },
   "outputs": [],
   "source": [
    "data"
   ]
  },
  {
   "cell_type": "code",
   "execution_count": 9,
   "metadata": {
    "scrolled": true
   },
   "outputs": [
    {
     "data": {
      "text/plain": [
       "dict_keys(['country_macro', 'china_macro', 'invest_trade', 'state_economy'])"
      ]
     },
     "execution_count": 9,
     "metadata": {},
     "output_type": "execute_result"
    }
   ],
   "source": [
    "data.keys()"
   ]
  },
  {
   "cell_type": "code",
   "execution_count": 10,
   "metadata": {
    "scrolled": true
   },
   "outputs": [
    {
     "data": {
      "text/plain": [
       "dict_keys(['year', 'area', 'item'])"
      ]
     },
     "execution_count": 10,
     "metadata": {},
     "output_type": "execute_result"
    }
   ],
   "source": [
    "data['country_macro']['term'].keys()"
   ]
  },
  {
   "cell_type": "code",
   "execution_count": 11,
   "metadata": {},
   "outputs": [],
   "source": [
    "dicoYear = {\n",
    "    '2015': '65d2ea03425887a717c435081cfc5dbb', \n",
    "    '2014': 'cee8d6b7ce52554fd70354e37bbf44a2', \n",
    "    '2013': '8038da89e49ac5eabb489cfc6cea9fc1'\n",
    "}\n",
    "dicoIndicator = {\n",
    "    'BRI GDP': '9b688b5fbb441714ba73f4379e7b135d', \n",
    "    'BRI GDP p.c.': '6d602224213550f3ee07477f1654f326', \n",
    "    'BRI GDP growth rate': '5c4591fe4746333f6e7b66b13ad980a2',\n",
    "    'BRI Y.o.Y. GDP growth rate p.c.': '07f451a8c9b2006fb937d1eb268ac60b',\n",
    "    'BRI Agriculture value added per sector ': 'c1329b4c01d4c08a68b8a280fb5a90ec',\n",
    "    'BRI Industry value added per sector ': 'f00273fa66d45147b2dd4dadd6275d32',\n",
    "    'BRI Services value added per sector ': '41fedd97a26d4782e531b5b4c67622b7',\n",
    "    'BRI Internet penetration rate (%)': '7b8d0a597b57bab793f428193eb899fe',\n",
    "    'BRI Population density (/km2)': '2a048dbe6ff2ee51d07a6314752c87d7',\n",
    "    'BRI Percentage of Urban Population in Total Population': '85bf6dab128029be54a3b1e643f0aa71'\n",
    "}\n",
    "\n",
    "#'Exp./Imp. volume USD': '', this one is not in the json"
   ]
  },
  {
   "cell_type": "code",
   "execution_count": 12,
   "metadata": {},
   "outputs": [],
   "source": [
    "def getCountryCode(countryName):\n",
    "    for k,v in data['country_macro']['term']['area'].items():\n",
    "        code = k\n",
    "        if v['full'] == countryName or v['short'] == countryName:\n",
    "            return code\n",
    "    return None"
   ]
  },
  {
   "cell_type": "code",
   "execution_count": null,
   "metadata": {},
   "outputs": [],
   "source": [
    "\n"
   ]
  },
  {
   "cell_type": "code",
   "execution_count": null,
   "metadata": {
    "scrolled": true
   },
   "outputs": [],
   "source": [
    "for nameYear, codeYear in dicoYear.items():\n",
    "    for nameColumn, codeIndicator in dicoIndicator.items():\n",
    "        for indexCountryDf, countryDf in df['Country (according to CN Gov):'].items():\n",
    "            #if we don't have the value in the DF we try to find it in the json.\n",
    "            if pd.isna(df.at[indexCountryDf,nameColumn]):\n",
    "                codeCountry = getCountryCode(countryDf)\n",
    "                if codeCountry is not None:\n",
    "                    try:\n",
    "                        value = float(data['country_macro']['data'][codeYear][codeCountry][codeIndicator])\n",
    "                        df[nameColumn].loc[indexCountryDf] = value\n",
    "                    except:\n",
    "                        print('Error - no value found', nameYear, nameColumn, countryDf)\n",
    "\n",
    "        "
   ]
  },
  {
   "cell_type": "markdown",
   "metadata": {},
   "source": [
    "We save the DF"
   ]
  },
  {
   "cell_type": "code",
   "execution_count": 16,
   "metadata": {},
   "outputs": [],
   "source": [
    "df.to_pickle(\"savedDF.pickle\")"
   ]
  }
 ],
 "metadata": {
  "kernelspec": {
   "display_name": "Python 3",
   "language": "python",
   "name": "python3"
  },
  "language_info": {
   "codemirror_mode": {
    "name": "ipython",
    "version": 3
   },
   "file_extension": ".py",
   "mimetype": "text/x-python",
   "name": "python",
   "nbconvert_exporter": "python",
   "pygments_lexer": "ipython3",
   "version": "3.7.3"
  }
 },
 "nbformat": 4,
 "nbformat_minor": 4
}
