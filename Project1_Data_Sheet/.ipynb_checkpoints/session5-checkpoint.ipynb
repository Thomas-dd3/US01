{
 "cells": [
  {
   "cell_type": "code",
   "execution_count": 26,
   "metadata": {},
   "outputs": [],
   "source": [
    "import pandas as pd\n",
    "import numpy as np\n",
    "import requests\n",
    "import os.path\n",
    "from sklearn import preprocessing\n",
    "from sklearn.preprocessing import StandardScaler\n",
    "from sklearn.ensemble import RandomForestClassifier\n",
    "from sklearn.metrics import classification_report"
   ]
  },
  {
   "cell_type": "code",
   "execution_count": 3,
   "metadata": {},
   "outputs": [
    {
     "name": "stdout",
     "output_type": "stream",
     "text": [
      "DF saved loaded\n"
     ]
    }
   ],
   "source": [
    "if os.path.isfile('data.pkl') or os.path.isfile('Data-sheet-STUDENTS.xlsx'):\n",
    "    if os.path.isfile('savedDF.pickle'):\n",
    "        df = pd.read_pickle(\"data.pkl\")\n",
    "        print(\"DF saved loaded\")\n",
    "    else:\n",
    "        df = pd.read_excel('Data-sheet-STUDENTS.xlsx', header=2, index_col=0)\n",
    "        print(\"DF from the empty excel loaded\")\n",
    "else:\n",
    "    print(\"Error: no file to load the df exist in the current folder\")"
   ]
  },
  {
   "cell_type": "markdown",
   "metadata": {},
   "source": [
    "We try to make a model on a part of the data"
   ]
  },
  {
   "cell_type": "code",
   "execution_count": 4,
   "metadata": {},
   "outputs": [],
   "source": [
    "df_modeling = df[['Country (according to CN Gov):',\n",
    "       'HF Index of Economic Freedom (Scale: 1-100)',\n",
    "       'Bertelsmann Transformation index (BTI)',\n",
    "       'WB UNESCO R&D Expenditure % of GDP',\n",
    "       'WB UNESCO Researchers p. mn inhabitants',\n",
    "       'TI Corruption Perception Index',\n",
    "        'BRI GDP p.c.']]"
   ]
  },
  {
   "cell_type": "markdown",
   "metadata": {},
   "source": [
    "We remove all the rows that have no values."
   ]
  },
  {
   "cell_type": "code",
   "execution_count": 5,
   "metadata": {},
   "outputs": [],
   "source": [
    "df_modeling = df_modeling.dropna()"
   ]
  },
  {
   "cell_type": "code",
   "execution_count": 6,
   "metadata": {},
   "outputs": [
    {
     "data": {
      "text/html": [
       "<div>\n",
       "<style scoped>\n",
       "    .dataframe tbody tr th:only-of-type {\n",
       "        vertical-align: middle;\n",
       "    }\n",
       "\n",
       "    .dataframe tbody tr th {\n",
       "        vertical-align: top;\n",
       "    }\n",
       "\n",
       "    .dataframe thead th {\n",
       "        text-align: right;\n",
       "    }\n",
       "</style>\n",
       "<table border=\"1\" class=\"dataframe\">\n",
       "  <thead>\n",
       "    <tr style=\"text-align: right;\">\n",
       "      <th></th>\n",
       "      <th>Country (according to CN Gov):</th>\n",
       "      <th>HF Index of Economic Freedom (Scale: 1-100)</th>\n",
       "      <th>Bertelsmann Transformation index (BTI)</th>\n",
       "      <th>WB UNESCO R&amp;D Expenditure % of GDP</th>\n",
       "      <th>WB UNESCO Researchers p. mn inhabitants</th>\n",
       "      <th>TI Corruption Perception Index</th>\n",
       "      <th>BRI GDP p.c.</th>\n",
       "    </tr>\n",
       "  </thead>\n",
       "  <tbody>\n",
       "    <tr>\n",
       "      <th>2</th>\n",
       "      <td>Albania</td>\n",
       "      <td>66.5</td>\n",
       "      <td>6.828571</td>\n",
       "      <td>0.15412</td>\n",
       "      <td>156.10110</td>\n",
       "      <td>36.0</td>\n",
       "      <td>3965.01680558488</td>\n",
       "    </tr>\n",
       "    <tr>\n",
       "      <th>5</th>\n",
       "      <td>Bahrain</td>\n",
       "      <td>66.4</td>\n",
       "      <td>4.616667</td>\n",
       "      <td>0.10116</td>\n",
       "      <td>368.90235</td>\n",
       "      <td>36.0</td>\n",
       "      <td>23395.7476902684</td>\n",
       "    </tr>\n",
       "    <tr>\n",
       "      <th>9</th>\n",
       "      <td>Bosnia and Herzegovina</td>\n",
       "      <td>61.9</td>\n",
       "      <td>6.282143</td>\n",
       "      <td>0.19951</td>\n",
       "      <td>463.89852</td>\n",
       "      <td>38.0</td>\n",
       "      <td>4197.80730449044</td>\n",
       "    </tr>\n",
       "    <tr>\n",
       "      <th>11</th>\n",
       "      <td>Bulgaria</td>\n",
       "      <td>69.0</td>\n",
       "      <td>7.800000</td>\n",
       "      <td>0.77079</td>\n",
       "      <td>2130.54538</td>\n",
       "      <td>42.0</td>\n",
       "      <td>6819.86910816324</td>\n",
       "    </tr>\n",
       "    <tr>\n",
       "      <th>12</th>\n",
       "      <td>Cambodia</td>\n",
       "      <td>58.7</td>\n",
       "      <td>4.000000</td>\n",
       "      <td>0.11823</td>\n",
       "      <td>30.37447</td>\n",
       "      <td>21.0</td>\n",
       "      <td>1158.69</td>\n",
       "    </tr>\n",
       "  </tbody>\n",
       "</table>\n",
       "</div>"
      ],
      "text/plain": [
       "   Country (according to CN Gov):  \\\n",
       "2                         Albania   \n",
       "5                         Bahrain   \n",
       "9          Bosnia and Herzegovina   \n",
       "11                       Bulgaria   \n",
       "12                       Cambodia   \n",
       "\n",
       "    HF Index of Economic Freedom (Scale: 1-100)  \\\n",
       "2                                          66.5   \n",
       "5                                          66.4   \n",
       "9                                          61.9   \n",
       "11                                         69.0   \n",
       "12                                         58.7   \n",
       "\n",
       "    Bertelsmann Transformation index (BTI)  \\\n",
       "2                                 6.828571   \n",
       "5                                 4.616667   \n",
       "9                                 6.282143   \n",
       "11                                7.800000   \n",
       "12                                4.000000   \n",
       "\n",
       "    WB UNESCO R&D Expenditure % of GDP  \\\n",
       "2                              0.15412   \n",
       "5                              0.10116   \n",
       "9                              0.19951   \n",
       "11                             0.77079   \n",
       "12                             0.11823   \n",
       "\n",
       "    WB UNESCO Researchers p. mn inhabitants  TI Corruption Perception Index  \\\n",
       "2                                 156.10110                            36.0   \n",
       "5                                 368.90235                            36.0   \n",
       "9                                 463.89852                            38.0   \n",
       "11                               2130.54538                            42.0   \n",
       "12                                 30.37447                            21.0   \n",
       "\n",
       "        BRI GDP p.c.  \n",
       "2   3965.01680558488  \n",
       "5   23395.7476902684  \n",
       "9   4197.80730449044  \n",
       "11  6819.86910816324  \n",
       "12           1158.69  "
      ]
     },
     "execution_count": 6,
     "metadata": {},
     "output_type": "execute_result"
    }
   ],
   "source": [
    "df_modeling.head()"
   ]
  },
  {
   "cell_type": "markdown",
   "metadata": {},
   "source": [
    "We transform the column with float values (we can't work with object values)"
   ]
  },
  {
   "cell_type": "code",
   "execution_count": 7,
   "metadata": {},
   "outputs": [],
   "source": [
    "df_modeling['BRI GDP p.c.'] = df_modeling['BRI GDP p.c.'].apply(lambda x: float(x))\n",
    "#df_modeling['BRI GDP p.c.'] = df_modeling['BRI GDP p.c.'].apply(float)) Same behaviour"
   ]
  },
  {
   "cell_type": "code",
   "execution_count": 15,
   "metadata": {},
   "outputs": [
    {
     "data": {
      "text/plain": [
       "<matplotlib.axes._subplots.AxesSubplot at 0x1bba1533ba8>"
      ]
     },
     "execution_count": 15,
     "metadata": {},
     "output_type": "execute_result"
    },
    {
     "data": {
      "image/png": "[encoded data removed]",
      "text/plain": [
       "<Figure size 432x288 with 1 Axes>"
      ]
     },
     "metadata": {
      "needs_background": "light"
     },
     "output_type": "display_data"
    }
   ],
   "source": [
    "# %matplotlib inline\n",
    "df_modeling['BRI GDP p.c.'].plot.hist(bins = 20, cumulative=True)"
   ]
  },
  {
   "cell_type": "code",
   "execution_count": 9,
   "metadata": {},
   "outputs": [
    {
     "data": {
      "text/plain": [
       "<matplotlib.axes._subplots.AxesSubplot at 0x1bba14b3940>"
      ]
     },
     "execution_count": 9,
     "metadata": {},
     "output_type": "execute_result"
    },
    {
     "data": {
      "image/png": "[encoded data removed]",
      "text/plain": [
       "<Figure size 432x288 with 1 Axes>"
      ]
     },
     "metadata": {
      "needs_background": "light"
     },
     "output_type": "display_data"
    }
   ],
   "source": [
    "df_modeling['BRI GDP p.c.'].sort_values().plot(use_index=False)"
   ]
  },
  {
   "cell_type": "markdown",
   "metadata": {},
   "source": [
    "We change the \"BRI GDP p.c\" column with 3 categories for the values we want to predict"
   ]
  },
  {
   "cell_type": "code",
   "execution_count": 10,
   "metadata": {},
   "outputs": [],
   "source": [
    "bins = [0, 5000, 20000, df_modeling['BRI GDP p.c.'].max()]\n",
    "df_modeling['GDP'] = pd.cut(df_modeling['BRI GDP p.c.'], bins=bins, labels=[\"low\",\"average\",\"high\"])"
   ]
  },
  {
   "cell_type": "code",
   "execution_count": 11,
   "metadata": {},
   "outputs": [
    {
     "data": {
      "text/html": [
       "<div>\n",
       "<style scoped>\n",
       "    .dataframe tbody tr th:only-of-type {\n",
       "        vertical-align: middle;\n",
       "    }\n",
       "\n",
       "    .dataframe tbody tr th {\n",
       "        vertical-align: top;\n",
       "    }\n",
       "\n",
       "    .dataframe thead th {\n",
       "        text-align: right;\n",
       "    }\n",
       "</style>\n",
       "<table border=\"1\" class=\"dataframe\">\n",
       "  <thead>\n",
       "    <tr style=\"text-align: right;\">\n",
       "      <th></th>\n",
       "      <th>Country (according to CN Gov):</th>\n",
       "      <th>HF Index of Economic Freedom (Scale: 1-100)</th>\n",
       "      <th>Bertelsmann Transformation index (BTI)</th>\n",
       "      <th>WB UNESCO R&amp;D Expenditure % of GDP</th>\n",
       "      <th>WB UNESCO Researchers p. mn inhabitants</th>\n",
       "      <th>TI Corruption Perception Index</th>\n",
       "      <th>BRI GDP p.c.</th>\n",
       "      <th>GDP</th>\n",
       "    </tr>\n",
       "  </thead>\n",
       "  <tbody>\n",
       "    <tr>\n",
       "      <th>2</th>\n",
       "      <td>Albania</td>\n",
       "      <td>66.5</td>\n",
       "      <td>6.828571</td>\n",
       "      <td>0.15412</td>\n",
       "      <td>156.10110</td>\n",
       "      <td>36.0</td>\n",
       "      <td>3965.016806</td>\n",
       "      <td>low</td>\n",
       "    </tr>\n",
       "    <tr>\n",
       "      <th>5</th>\n",
       "      <td>Bahrain</td>\n",
       "      <td>66.4</td>\n",
       "      <td>4.616667</td>\n",
       "      <td>0.10116</td>\n",
       "      <td>368.90235</td>\n",
       "      <td>36.0</td>\n",
       "      <td>23395.747690</td>\n",
       "      <td>high</td>\n",
       "    </tr>\n",
       "    <tr>\n",
       "      <th>9</th>\n",
       "      <td>Bosnia and Herzegovina</td>\n",
       "      <td>61.9</td>\n",
       "      <td>6.282143</td>\n",
       "      <td>0.19951</td>\n",
       "      <td>463.89852</td>\n",
       "      <td>38.0</td>\n",
       "      <td>4197.807304</td>\n",
       "      <td>low</td>\n",
       "    </tr>\n",
       "    <tr>\n",
       "      <th>11</th>\n",
       "      <td>Bulgaria</td>\n",
       "      <td>69.0</td>\n",
       "      <td>7.800000</td>\n",
       "      <td>0.77079</td>\n",
       "      <td>2130.54538</td>\n",
       "      <td>42.0</td>\n",
       "      <td>6819.869108</td>\n",
       "      <td>average</td>\n",
       "    </tr>\n",
       "    <tr>\n",
       "      <th>12</th>\n",
       "      <td>Cambodia</td>\n",
       "      <td>58.7</td>\n",
       "      <td>4.000000</td>\n",
       "      <td>0.11823</td>\n",
       "      <td>30.37447</td>\n",
       "      <td>21.0</td>\n",
       "      <td>1158.689904</td>\n",
       "      <td>low</td>\n",
       "    </tr>\n",
       "  </tbody>\n",
       "</table>\n",
       "</div>"
      ],
      "text/plain": [
       "   Country (according to CN Gov):  \\\n",
       "2                         Albania   \n",
       "5                         Bahrain   \n",
       "9          Bosnia and Herzegovina   \n",
       "11                       Bulgaria   \n",
       "12                       Cambodia   \n",
       "\n",
       "    HF Index of Economic Freedom (Scale: 1-100)  \\\n",
       "2                                          66.5   \n",
       "5                                          66.4   \n",
       "9                                          61.9   \n",
       "11                                         69.0   \n",
       "12                                         58.7   \n",
       "\n",
       "    Bertelsmann Transformation index (BTI)  \\\n",
       "2                                 6.828571   \n",
       "5                                 4.616667   \n",
       "9                                 6.282143   \n",
       "11                                7.800000   \n",
       "12                                4.000000   \n",
       "\n",
       "    WB UNESCO R&D Expenditure % of GDP  \\\n",
       "2                              0.15412   \n",
       "5                              0.10116   \n",
       "9                              0.19951   \n",
       "11                             0.77079   \n",
       "12                             0.11823   \n",
       "\n",
       "    WB UNESCO Researchers p. mn inhabitants  TI Corruption Perception Index  \\\n",
       "2                                 156.10110                            36.0   \n",
       "5                                 368.90235                            36.0   \n",
       "9                                 463.89852                            38.0   \n",
       "11                               2130.54538                            42.0   \n",
       "12                                 30.37447                            21.0   \n",
       "\n",
       "    BRI GDP p.c.      GDP  \n",
       "2    3965.016806      low  \n",
       "5   23395.747690     high  \n",
       "9    4197.807304      low  \n",
       "11   6819.869108  average  \n",
       "12   1158.689904      low  "
      ]
     },
     "execution_count": 11,
     "metadata": {},
     "output_type": "execute_result"
    }
   ],
   "source": [
    "df_modeling.head()"
   ]
  },
  {
   "cell_type": "markdown",
   "metadata": {},
   "source": [
    "We scale our data (centrée et réduit)"
   ]
  },
  {
   "cell_type": "code",
   "execution_count": 12,
   "metadata": {},
   "outputs": [],
   "source": [
    "scaler = StandardScaler()\n",
    "df_modeling['HF_scaled'] = scaler.fit_transform(df_modeling[['HF Index of Economic Freedom (Scale: 1-100)']])\n",
    "df_modeling['BTI_scaled'] = scaler.fit_transform(df_modeling[['Bertelsmann Transformation index (BTI)']])\n",
    "df_modeling['R&D_scaled'] = scaler.fit_transform(df_modeling[['WB UNESCO R&D Expenditure % of GDP']])\n",
    "df_modeling['researchers_scaled'] = scaler.fit_transform(df_modeling[['WB UNESCO Researchers p. mn inhabitants']])\n",
    "df_modeling['corruption_scaled'] = scaler.fit_transform(df_modeling[['TI Corruption Perception Index']])"
   ]
  },
  {
   "cell_type": "code",
   "execution_count": 13,
   "metadata": {},
   "outputs": [],
   "source": [
    "df_export = df_modeling[['HF_scaled','BTI_scaled','R&D_scaled','researchers_scaled','corruption_scaled','GDP']]"
   ]
  },
  {
   "cell_type": "code",
   "execution_count": 14,
   "metadata": {},
   "outputs": [],
   "source": [
    "df_export.to_csv('model.csv')"
   ]
  },
  {
   "cell_type": "markdown",
   "metadata": {},
   "source": [
    "We will train our model on 75% of our dataset"
   ]
  },
  {
   "cell_type": "code",
   "execution_count": null,
   "metadata": {},
   "outputs": [],
   "source": [
    "df_export['is_train'] = np.random.uniform(0, 1, len(df_export)) <= .75\n",
    "df_export['is_train']"
   ]
  },
  {
   "cell_type": "markdown",
   "metadata": {},
   "source": []
  },
  {
   "cell_type": "code",
   "execution_count": 23,
   "metadata": {},
   "outputs": [],
   "source": [
    "train, test = df_export[df_export['is_train']==True], df_export[df_export['is_train']==False]"
   ]
  },
  {
   "cell_type": "code",
   "execution_count": 24,
   "metadata": {},
   "outputs": [
    {
     "data": {
      "text/plain": [
       "Index(['HF_scaled', 'BTI_scaled', 'R&D_scaled', 'researchers_scaled',\n",
       "       'corruption_scaled'],\n",
       "      dtype='object')"
      ]
     },
     "execution_count": 24,
     "metadata": {},
     "output_type": "execute_result"
    }
   ],
   "source": [
    "features = df_export.columns[0:5]\n",
    "features"
   ]
  },
  {
   "cell_type": "code",
   "execution_count": 25,
   "metadata": {},
   "outputs": [
    {
     "data": {
      "text/plain": [
       "array(['low', 'high', 'average', 'average', 'average', 'low', 'average',\n",
       "       'low', 'average', 'low', 'low', 'low', 'high', 'low', 'average',\n",
       "       'average', 'low', 'average', 'low', 'average', 'low', 'low', 'low',\n",
       "       'average', 'high', 'average', 'average', 'high', 'high', 'average',\n",
       "       'high', 'average', 'low', 'low'], dtype=object)"
      ]
     },
     "execution_count": 25,
     "metadata": {},
     "output_type": "execute_result"
    }
   ],
   "source": [
    "y_train = np.array(train['GDP'])\n",
    "y_train"
   ]
  },
  {
   "cell_type": "code",
   "execution_count": 27,
   "metadata": {},
   "outputs": [
    {
     "name": "stdout",
     "output_type": "stream",
     "text": [
      "              precision    recall  f1-score   support\n",
      "\n",
      "     average       1.00      0.25      0.40         4\n",
      "         low       0.62      1.00      0.77         5\n",
      "\n",
      "    accuracy                           0.67         9\n",
      "   macro avg       0.81      0.62      0.58         9\n",
      "weighted avg       0.79      0.67      0.61         9\n",
      "\n"
     ]
    },
    {
     "name": "stderr",
     "output_type": "stream",
     "text": [
      "C:\\Users\\Roger\\Anaconda3\\lib\\site-packages\\sklearn\\ensemble\\forest.py:245: FutureWarning: The default value of n_estimators will change from 10 in version 0.20 to 100 in 0.22.\n",
      "  \"10 in version 0.20 to 100 in 0.22.\", FutureWarning)\n"
     ]
    }
   ],
   "source": [
    "rfc = RandomForestClassifier()\n",
    "\n",
    "rfc.fit(train[features], y_train)\n",
    "\n",
    "y_predict = rfc.predict(test[features])\n",
    "y_true = test['GDP']\n",
    "\n",
    "print(classification_report(y_true,y_predict))"
   ]
  },
  {
   "cell_type": "code",
   "execution_count": null,
   "metadata": {},
   "outputs": [],
   "source": []
  }
 ],
 "metadata": {
  "kernelspec": {
   "display_name": "Python 3",
   "language": "python",
   "name": "python3"
  },
  "language_info": {
   "codemirror_mode": {
    "name": "ipython",
    "version": 3
   },
   "file_extension": ".py",
   "mimetype": "text/x-python",
   "name": "python",
   "nbconvert_exporter": "python",
   "pygments_lexer": "ipython3",
   "version": "3.7.3"
  }
 },
 "nbformat": 4,
 "nbformat_minor": 4
}
