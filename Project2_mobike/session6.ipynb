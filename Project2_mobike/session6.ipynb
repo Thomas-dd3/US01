{
 "cells": [
  {
   "cell_type": "code",
   "execution_count": 45,
   "metadata": {},
   "outputs": [],
   "source": [
    "import os\n",
    "os.environ['GDAL_DATA'] = \"C:\\\\Users\\\\Roger\\\\Anaconda3\\\\pkgs\\\\libgdal-2.3.3-h10f50ba_0\\\\Library\\\\share\\\\gdal\"\n",
    "import pandas as pd\n",
    "import geopandas\n",
    "from osgeo import osr"
   ]
  },
  {
   "cell_type": "code",
   "execution_count": 46,
   "metadata": {},
   "outputs": [],
   "source": [
    "df = pd.read_csv(\"UTSEUS-MOBIKE-shanghai_full.csv\")"
   ]
  },
  {
   "cell_type": "markdown",
   "metadata": {},
   "source": [
    "First when you have geographic data, you plot them to check if location looks correct.\n",
    "If not you clean them by using bounding box with the right position of the data you want keep"
   ]
  },
  {
   "cell_type": "code",
   "execution_count": 47,
   "metadata": {},
   "outputs": [
    {
     "data": {
      "text/plain": [
       "<matplotlib.axes._subplots.AxesSubplot at 0x222843b5be0>"
      ]
     },
     "execution_count": 47,
     "metadata": {},
     "output_type": "execute_result"
    },
    {
     "data": {
      "image/png": "[encoded data removed]",
      "text/plain": [
       "<Figure size 432x288 with 1 Axes>"
      ]
     },
     "metadata": {
      "needs_background": "light"
     },
     "output_type": "display_data"
    }
   ],
   "source": [
    "%matplotlib inline\n",
    "df.plot.scatter(x='start_location_x', y='start_location_y')"
   ]
  },
  {
   "cell_type": "code",
   "execution_count": 48,
   "metadata": {},
   "outputs": [
    {
     "data": {
      "text/html": [
       "<div>\n",
       "<style scoped>\n",
       "    .dataframe tbody tr th:only-of-type {\n",
       "        vertical-align: middle;\n",
       "    }\n",
       "\n",
       "    .dataframe tbody tr th {\n",
       "        vertical-align: top;\n",
       "    }\n",
       "\n",
       "    .dataframe thead th {\n",
       "        text-align: right;\n",
       "    }\n",
       "</style>\n",
       "<table border=\"1\" class=\"dataframe\">\n",
       "  <thead>\n",
       "    <tr style=\"text-align: right;\">\n",
       "      <th></th>\n",
       "      <th>orderid</th>\n",
       "      <th>bikeid</th>\n",
       "      <th>userid</th>\n",
       "      <th>start_time</th>\n",
       "      <th>start_location_x</th>\n",
       "      <th>start_location_y</th>\n",
       "      <th>end_time</th>\n",
       "      <th>end_location_x</th>\n",
       "      <th>end_location_y</th>\n",
       "      <th>track</th>\n",
       "    </tr>\n",
       "  </thead>\n",
       "  <tbody>\n",
       "    <tr>\n",
       "      <th>0</th>\n",
       "      <td>1</td>\n",
       "      <td>324731</td>\n",
       "      <td>7541</td>\n",
       "      <td>2016-08-28 00:00</td>\n",
       "      <td>121.490</td>\n",
       "      <td>31.280</td>\n",
       "      <td>2016-08-28 00:08</td>\n",
       "      <td>121.486</td>\n",
       "      <td>31.273</td>\n",
       "      <td>121.485,31.275#121.485,31.276#121.486,31.273#1...</td>\n",
       "    </tr>\n",
       "    <tr>\n",
       "      <th>1</th>\n",
       "      <td>6</td>\n",
       "      <td>288841</td>\n",
       "      <td>4427</td>\n",
       "      <td>2016-08-28 00:00</td>\n",
       "      <td>121.462</td>\n",
       "      <td>31.313</td>\n",
       "      <td>2016-08-28 00:17</td>\n",
       "      <td>121.455</td>\n",
       "      <td>31.315</td>\n",
       "      <td>121.455,31.313#121.455,31.314#121.455,31.315#1...</td>\n",
       "    </tr>\n",
       "    <tr>\n",
       "      <th>2</th>\n",
       "      <td>8</td>\n",
       "      <td>315873</td>\n",
       "      <td>6474</td>\n",
       "      <td>2016-08-28 00:00</td>\n",
       "      <td>121.416</td>\n",
       "      <td>31.154</td>\n",
       "      <td>2016-08-28 00:14</td>\n",
       "      <td>121.419</td>\n",
       "      <td>31.156</td>\n",
       "      <td>121.416,31.154#121.416,31.155#121.417,31.155#1...</td>\n",
       "    </tr>\n",
       "    <tr>\n",
       "      <th>3</th>\n",
       "      <td>10</td>\n",
       "      <td>93155</td>\n",
       "      <td>12616</td>\n",
       "      <td>2016-08-28 00:00</td>\n",
       "      <td>121.436</td>\n",
       "      <td>31.320</td>\n",
       "      <td>2016-08-28 00:12</td>\n",
       "      <td>121.444</td>\n",
       "      <td>31.310</td>\n",
       "      <td>121.436,31.318#121.436,31.319#121.436,31.320#1...</td>\n",
       "    </tr>\n",
       "    <tr>\n",
       "      <th>4</th>\n",
       "      <td>11</td>\n",
       "      <td>352484</td>\n",
       "      <td>11596</td>\n",
       "      <td>2016-08-28 00:00</td>\n",
       "      <td>121.459</td>\n",
       "      <td>31.325</td>\n",
       "      <td>2016-08-28 00:08</td>\n",
       "      <td>121.460</td>\n",
       "      <td>31.315</td>\n",
       "      <td>121.459,31.315#121.459,31.316#121.459,31.317#1...</td>\n",
       "    </tr>\n",
       "  </tbody>\n",
       "</table>\n",
       "</div>"
      ],
      "text/plain": [
       "   orderid  bikeid  userid        start_time  start_location_x  \\\n",
       "0        1  324731    7541  2016-08-28 00:00           121.490   \n",
       "1        6  288841    4427  2016-08-28 00:00           121.462   \n",
       "2        8  315873    6474  2016-08-28 00:00           121.416   \n",
       "3       10   93155   12616  2016-08-28 00:00           121.436   \n",
       "4       11  352484   11596  2016-08-28 00:00           121.459   \n",
       "\n",
       "   start_location_y          end_time  end_location_x  end_location_y  \\\n",
       "0            31.280  2016-08-28 00:08         121.486          31.273   \n",
       "1            31.313  2016-08-28 00:17         121.455          31.315   \n",
       "2            31.154  2016-08-28 00:14         121.419          31.156   \n",
       "3            31.320  2016-08-28 00:12         121.444          31.310   \n",
       "4            31.325  2016-08-28 00:08         121.460          31.315   \n",
       "\n",
       "                                               track  \n",
       "0  121.485,31.275#121.485,31.276#121.486,31.273#1...  \n",
       "1  121.455,31.313#121.455,31.314#121.455,31.315#1...  \n",
       "2  121.416,31.154#121.416,31.155#121.417,31.155#1...  \n",
       "3  121.436,31.318#121.436,31.319#121.436,31.320#1...  \n",
       "4  121.459,31.315#121.459,31.316#121.459,31.317#1...  "
      ]
     },
     "execution_count": 48,
     "metadata": {},
     "output_type": "execute_result"
    }
   ],
   "source": [
    "df.head()"
   ]
  },
  {
   "cell_type": "markdown",
   "metadata": {},
   "source": [
    "We want to keep only the position in Shanghai.\n",
    "We can by the way notice that we have 2 area of data far from the others. We definitely don't want these area."
   ]
  },
  {
   "cell_type": "code",
   "execution_count": 49,
   "metadata": {},
   "outputs": [],
   "source": [
    "df = df[(df['start_location_x'] >= 121.10157) & (df['start_location_x'] <= 121.80461) & (df['start_location_y'] >= 30.975) & (df['start_location_y'] <= 31.51499)]"
   ]
  },
  {
   "cell_type": "code",
   "execution_count": 50,
   "metadata": {},
   "outputs": [],
   "source": [
    "df = df[(df['end_location_x'] >= 121.10157) & (df['end_location_x'] <= 121.80461) & (df['end_location_y'] >= 30.975) & (df['end_location_y'] <= 31.51499)]"
   ]
  },
  {
   "cell_type": "code",
   "execution_count": 51,
   "metadata": {},
   "outputs": [
    {
     "data": {
      "text/plain": [
       "<matplotlib.axes._subplots.AxesSubplot at 0x2228515e9b0>"
      ]
     },
     "execution_count": 51,
     "metadata": {},
     "output_type": "execute_result"
    },
    {
     "data": {
      "image/png": "[encoded data removed]",
      "text/plain": [
       "<Figure size 432x288 with 1 Axes>"
      ]
     },
     "metadata": {
      "needs_background": "light"
     },
     "output_type": "display_data"
    }
   ],
   "source": [
    "df.plot.scatter(x='start_location_x', y='start_location_y')"
   ]
  },
  {
   "cell_type": "code",
   "execution_count": null,
   "metadata": {},
   "outputs": [
    {
     "data": {
      "text/plain": [
       "<matplotlib.axes._subplots.AxesSubplot at 0x222851bb160>"
      ]
     },
     "execution_count": 52,
     "metadata": {},
     "output_type": "execute_result"
    }
   ],
   "source": [
    "df.plot.scatter(x='start_location_x', y='start_location_y', s=0.02, c='#000066', figsize=(15,10))"
   ]
  },
  {
   "cell_type": "code",
   "execution_count": null,
   "metadata": {},
   "outputs": [],
   "source": [
    "df.head()"
   ]
  },
  {
   "cell_type": "markdown",
   "metadata": {},
   "source": [
    "Projection : mercator"
   ]
  },
  {
   "cell_type": "code",
   "execution_count": null,
   "metadata": {},
   "outputs": [],
   "source": [
    "df['start_time'] = pd.to_datetime(df['start_time'])\n",
    "df['end_time'] = pd.to_datetime(df['end_time'])"
   ]
  },
  {
   "cell_type": "code",
   "execution_count": null,
   "metadata": {},
   "outputs": [],
   "source": [
    "df['duration'] = df['end_time'] - df['start_time']"
   ]
  },
  {
   "cell_type": "code",
   "execution_count": null,
   "metadata": {},
   "outputs": [],
   "source": [
    "df['duration'].head()"
   ]
  },
  {
   "cell_type": "code",
   "execution_count": null,
   "metadata": {},
   "outputs": [],
   "source": []
  },
  {
   "cell_type": "code",
   "execution_count": null,
   "metadata": {},
   "outputs": [],
   "source": []
  },
  {
   "cell_type": "code",
   "execution_count": null,
   "metadata": {},
   "outputs": [],
   "source": [
    "from osgeo import osr, ogr\n",
    "\n",
    "old_crs = osr.SpatialReference()\n",
    "old_crs.ImportFromEPSG(4326)\n",
    "new_crs = osr.SpatialReference()\n",
    "new_crs.ImportFromEPSG(4479)\n",
    "transform = osr.CoordinateTransformation(old_crs, new_crs)\n",
    "\n",
    "def getNewLongitude(xy):\n",
    "    #return transform.TransformPoint([xy[0], xy[1], 0.0])[0]\n",
    "    point = ogr.Geometry(ogr.wkbPoint)\n",
    "    point.AddPoint(xy[0], xy[1])\n",
    "    point.Transform(transform)\n",
    "    return point.GetX()\n",
    "\n",
    "def getNewLatitude(xy):\n",
    "    #return transform.TransformPoint([xy[0], xy[1], 0.0])[1]\n",
    "    point = ogr.Geometry(ogr.wkbPoint)\n",
    "    point.AddPoint(xy[0], xy[1])\n",
    "    point.Transform(transform)\n",
    "    return point.GetY()\n",
    "\n",
    "df['start_longitude'] = df[['start_location_x', 'start_location_y']].apply(getNewLongitude, axis=1)\n",
    "df['start_latitude'] = df[['start_location_x', 'start_location_y']].apply(getNewLatitude, axis=1)\n",
    "df['end_longitude'] = df[['end_location_x', 'end_location_y']].apply(getNewLongitude, axis=1)\n",
    "df['end_latitude'] = df[['end_location_x', 'end_location_y']].apply(getNewLatitude, axis=1)"
   ]
  },
  {
   "cell_type": "markdown",
   "metadata": {},
   "source": [
    "scipy euclidienne distance"
   ]
  },
  {
   "cell_type": "code",
   "execution_count": null,
   "metadata": {},
   "outputs": [],
   "source": [
    "df.head()"
   ]
  },
  {
   "cell_type": "code",
   "execution_count": null,
   "metadata": {},
   "outputs": [],
   "source": [
    "from scipy.spatial import distance"
   ]
  },
  {
   "cell_type": "code",
   "execution_count": null,
   "metadata": {},
   "outputs": [],
   "source": [
    "distance.euclidean([df['start_longitude'].loc[0],df['start_latitude'].loc[0]],[df['end_longitude'].loc[0],df['end_latitude'].loc[0]])"
   ]
  },
  {
   "cell_type": "code",
   "execution_count": null,
   "metadata": {},
   "outputs": [],
   "source": [
    "df['distance'] = df[['start_longitude', 'start_latitude', 'end_longitude', 'end_latitude']].apply(\n",
    "    lambda x: distance.euclidean([x[0],x[1]],[x[2],x[3]]), axis = 1)"
   ]
  },
  {
   "cell_type": "code",
   "execution_count": null,
   "metadata": {},
   "outputs": [],
   "source": [
    "df[df['distance']==df['distance'].max()]"
   ]
  },
  {
   "cell_type": "code",
   "execution_count": null,
   "metadata": {},
   "outputs": [],
   "source": [
    "'''from pyproj import Transformer\n",
    "\n",
    "transformer = Transformer.from_crs(\"EPSG:4326\", \"EPSG:4479\", always_xy=True)\n",
    "\n",
    "\n",
    "def getNewLongitude(xy):\n",
    "    return transformer.transform(xy[0], xy[1])[0]\n",
    "\n",
    "def getNewLatitude(xy):\n",
    "    return transformer.transform(xy[0], xy[1])[1]\n",
    "\n",
    "df['start_longitude'] = df[['start_location_x', 'start_location_y']].apply(getNewLongitude, axis=1)\n",
    "df['start_latitude'] = df[['start_location_x', 'start_location_y']].apply(getNewLatitude, axis=1)\n",
    "df['end_longitude'] = df[['end_location_x', 'end_location_y']].apply(getNewLongitude, axis=1)\n",
    "df['end_latitude'] = df[['end_location_x', 'end_location_y']].apply(getNewLatitude, axis=1)'''"
   ]
  }
 ],
 "metadata": {
  "kernelspec": {
   "display_name": "Python 3",
   "language": "python",
   "name": "python3"
  },
  "language_info": {
   "codemirror_mode": {
    "name": "ipython",
    "version": 3
   },
   "file_extension": ".py",
   "mimetype": "text/x-python",
   "name": "python",
   "nbconvert_exporter": "python",
   "pygments_lexer": "ipython3",
   "version": "3.7.3"
  }
 },
 "nbformat": 4,
 "nbformat_minor": 4
}
