{
 "cells": [
  {
   "cell_type": "code",
   "execution_count": 4,
   "metadata": {},
   "outputs": [
    {
     "name": "stdout",
     "output_type": "stream",
     "text": [
      "Hello World !!\n"
     ]
    }
   ],
   "source": [
    "print(\"Hello World !!\")"
   ]
  },
  {
   "cell_type": "code",
   "execution_count": null,
   "metadata": {},
   "outputs": [],
   "source": []
  },
  {
   "cell_type": "code",
   "execution_count": null,
   "metadata": {},
   "outputs": [],
   "source": []
  },
  {
   "cell_type": "code",
   "execution_count": 3,
   "metadata": {},
   "outputs": [
    {
     "name": "stdout",
     "output_type": "stream",
     "text": [
      "\f",
      "\n"
     ]
    }
   ],
   "source": []
  },
  {
   "cell_type": "markdown",
   "metadata": {},
   "source": [
    "We import pandas to read the excel\n",
    "And requests for API requests"
   ]
  },
  {
   "cell_type": "code",
   "execution_count": 22,
   "metadata": {},
   "outputs": [],
   "source": [
    "import pandas as pd\n",
    "import requests"
   ]
  },
  {
   "cell_type": "code",
   "execution_count": 7,
   "metadata": {},
   "outputs": [],
   "source": [
    "df = pd.read_excel('Data-sheet-STUDENTS.xlsx', header=2, index_col=0)"
   ]
  },
  {
   "cell_type": "code",
   "execution_count": 8,
   "metadata": {},
   "outputs": [
    {
     "data": {
      "text/plain": [
       "1                            Afghanistan\n",
       "2                                Albania\n",
       "3                                Armenia\n",
       "4                             Azerbaijan\n",
       "5                                Bahrain\n",
       "6                             Bangladesh\n",
       "7                                Belarus\n",
       "8                                 Bhutan\n",
       "9                 Bosnia and Herzegovina\n",
       "10                                Brunei\n",
       "11                              Bulgaria\n",
       "12                              Cambodia\n",
       "13                                 China\n",
       "14                               Croatia\n",
       "15                        Czech Republic\n",
       "16                            East Timor\n",
       "17                                 Egypt\n",
       "18                               Estonia\n",
       "19                      France (Not BRI)\n",
       "20                               Georgia\n",
       "21                     Germany (not BRI)\n",
       "22                               Hungary\n",
       "23                                 India\n",
       "24                             Indonesia\n",
       "25                                  Iran\n",
       "26                                  Iraq\n",
       "27                                Israel\n",
       "28                                Jordan\n",
       "29                            Kazakhstan\n",
       "30                                Kuwait\n",
       "                     ...                \n",
       "39                               Moldova\n",
       "40                              Mongolia\n",
       "41                            Montenegro\n",
       "42                               Myanmar\n",
       "43                                 Nepal\n",
       "44                                  Oman\n",
       "45                              Pakistan\n",
       "46                           Philippines\n",
       "47                                Poland\n",
       "48                                 Qatar\n",
       "49                               Romania\n",
       "50                                Russia\n",
       "51                          Saudi Arabia\n",
       "52                                Serbia\n",
       "53                             Singapore\n",
       "54                              Slovakia\n",
       "55                              Slovenia\n",
       "56                             Sri Lanka\n",
       "57                                 Syria\n",
       "58                            Tajikistan\n",
       "59                             Thailiand\n",
       "60              The United Arab Emirates\n",
       "61                                Turkey\n",
       "62                          Turkmenistan\n",
       "63              United Kingdom (Not BRI)\n",
       "64    United States of America (Not BRI)\n",
       "65                               Ukraine\n",
       "66                            Uzbekistan\n",
       "67                               Vietnam\n",
       "68                                 Yemen\n",
       "Name: Country (according to CN Gov):, Length: 68, dtype: object"
      ]
     },
     "execution_count": 8,
     "metadata": {},
     "output_type": "execute_result"
    }
   ],
   "source": [
    "df[\"Country (according to CN Gov):\"]"
   ]
  },
  {
   "cell_type": "markdown",
   "metadata": {},
   "source": [
    "strip() clean begining and end of a string like \"space\" or \"\\n\" ..."
   ]
  },
  {
   "cell_type": "code",
   "execution_count": 54,
   "metadata": {},
   "outputs": [],
   "source": [
    "iso_codes = {}"
   ]
  },
  {
   "cell_type": "code",
   "execution_count": 55,
   "metadata": {},
   "outputs": [],
   "source": [
    "for index, name in df[\"Country (according to CN Gov):\"].items():    \n",
    "    if name in iso_codes:\n",
    "        continue\n",
    "        \n",
    "    clean_name = name.split(' (')[0]\n",
    "    if name == \"Thailiand\":\n",
    "        clean_name = \"Thailand\"\n",
    "        \n",
    "    if name == \"The United Arab Emirates\":\n",
    "        clean_name = \"United Arab Emirates\"\n",
    "        \n",
    "    url = 'http://www.restcountries.eu/rest/v2/name/' + clean_name\n",
    "    r = requests.get(url)\n",
    "    if r.status_code == 200:\n",
    "        data = r.json()\n",
    "        country_code = data[0]['alpha3Code']\n",
    "        iso_codes[name] = country_code\n",
    "    else:\n",
    "        print('[ERROR]['+ name +'] we cannot get the data, reason is ', r.status_code, r.text)"
   ]
  },
  {
   "cell_type": "code",
   "execution_count": 56,
   "metadata": {},
   "outputs": [
    {
     "data": {
      "text/plain": [
       "{'Afghanistan': 'AFG',\n",
       " 'Albania': 'ALB',\n",
       " 'Armenia': 'ARM',\n",
       " 'Azerbaijan': 'AZE',\n",
       " 'Bahrain': 'BHR',\n",
       " 'Bangladesh': 'BGD',\n",
       " 'Belarus': 'BLR',\n",
       " 'Bhutan': 'BTN',\n",
       " 'Bosnia and Herzegovina': 'BIH',\n",
       " 'Brunei': 'BRN',\n",
       " 'Bulgaria': 'BGR',\n",
       " 'Cambodia': 'KHM',\n",
       " 'China': 'CHN',\n",
       " 'Croatia': 'HRV',\n",
       " 'Czech Republic': 'CZE',\n",
       " 'East Timor': 'TLS',\n",
       " 'Egypt': 'EGY',\n",
       " 'Estonia': 'EST',\n",
       " 'France (Not BRI)': 'FRA',\n",
       " 'Georgia': 'GEO',\n",
       " 'Germany (not BRI)': 'DEU',\n",
       " 'Hungary': 'HUN',\n",
       " 'India': 'IOT',\n",
       " 'Indonesia': 'IDN',\n",
       " 'Iran': 'IRN',\n",
       " 'Iraq': 'IRQ',\n",
       " 'Israel': 'ISR',\n",
       " 'Jordan': 'JOR',\n",
       " 'Kazakhstan': 'KAZ',\n",
       " 'Kuwait': 'KWT',\n",
       " 'Kyrgyzstan': 'KGZ',\n",
       " 'Laos': 'LAO',\n",
       " 'Latvia': 'LVA',\n",
       " 'Lebanon': 'LBN',\n",
       " 'Lithuania': 'LTU',\n",
       " 'Macedonia': 'MKD',\n",
       " 'Malaysia': 'MYS',\n",
       " 'Maldives': 'MDV',\n",
       " 'Moldova': 'MDA',\n",
       " 'Mongolia': 'MNG',\n",
       " 'Montenegro': 'MNE',\n",
       " 'Myanmar': 'MMR',\n",
       " 'Nepal': 'NPL',\n",
       " 'Oman': 'OMN',\n",
       " 'Pakistan': 'PAK',\n",
       " 'Philippines': 'PHL',\n",
       " 'Poland': 'POL',\n",
       " 'Qatar': 'QAT',\n",
       " 'Romania': 'ROU',\n",
       " 'Russia': 'RUS',\n",
       " 'Saudi Arabia': 'SAU',\n",
       " 'Serbia': 'SRB',\n",
       " 'Singapore': 'SGP',\n",
       " 'Slovakia': 'SVK',\n",
       " 'Slovenia': 'SVN',\n",
       " 'Sri Lanka': 'LKA',\n",
       " 'Syria': 'SYR',\n",
       " 'Tajikistan': 'TJK',\n",
       " 'Thailiand': 'THA',\n",
       " 'The United Arab Emirates': 'ARE',\n",
       " 'Turkey': 'TUR',\n",
       " 'Turkmenistan': 'TKM',\n",
       " 'United Kingdom (Not BRI)': 'GBR',\n",
       " 'United States of America (Not BRI)': 'USA',\n",
       " 'Ukraine': 'UKR',\n",
       " 'Uzbekistan': 'UZB',\n",
       " 'Vietnam': 'VNM',\n",
       " 'Yemen': 'YEM'}"
      ]
     },
     "execution_count": 56,
     "metadata": {},
     "output_type": "execute_result"
    }
   ],
   "source": [
    "iso_codes"
   ]
  },
  {
   "cell_type": "markdown",
   "metadata": {},
   "source": [
    "We put back the iso_code into the dataframe"
   ]
  },
  {
   "cell_type": "code",
   "execution_count": 58,
   "metadata": {},
   "outputs": [],
   "source": [
    "df[\"isocode\"] = df[\"Country (according to CN Gov):\"].apply(lambda x: iso_codes[x])"
   ]
  },
  {
   "cell_type": "code",
   "execution_count": 61,
   "metadata": {},
   "outputs": [],
   "source": [
    "ind1 = {}"
   ]
  },
  {
   "cell_type": "code",
   "execution_count": null,
   "metadata": {},
   "outputs": [],
   "source": [
    "for index, name in df[\"isocode\"].items():    \n",
    "    if name in ind1:\n",
    "        continue\n",
    "        \n",
    "        \n",
    "    url = 'http://www.restcountries.eu/rest/v2/name/' + clean_name\n",
    "    r = requests.get(url)\n",
    "    if r.status_code == 200:\n",
    "        data = r.json()\n",
    "        country_code = data[0]['alpha3Code']\n",
    "        iso_codes[name] = country_code\n",
    "    else:\n",
    "        print('[ERROR]['+ name +'] we cannot get the data, reason is ', r.status_code, r.text)"
   ]
  },
  {
   "cell_type": "code",
   "execution_count": 60,
   "metadata": {},
   "outputs": [],
   "source": [
    "df.to_pickle(\"savedDF.pickle\")"
   ]
  }
 ],
 "metadata": {
  "kernelspec": {
   "display_name": "Python 3",
   "language": "python",
   "name": "python3"
  },
  "language_info": {
   "codemirror_mode": {
    "name": "ipython",
    "version": 3
   },
   "file_extension": ".py",
   "mimetype": "text/x-python",
   "name": "python",
   "nbconvert_exporter": "python",
   "pygments_lexer": "ipython3",
   "version": "3.7.3"
  }
 },
 "nbformat": 4,
 "nbformat_minor": 4
}
